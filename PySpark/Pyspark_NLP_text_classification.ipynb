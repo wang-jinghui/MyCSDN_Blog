{
 "cells": [
  {
   "cell_type": "markdown",
   "metadata": {},
   "source": [
    "# 目录\n",
    "* [Introduction](#1)\n",
    "* [NLP five major steps](#2)\n",
    "* [Corpus](#3)\n",
    "* [Tokenize](#4)\n",
    "* [Stopwords](#5)\n",
    "* [Bag of Words](#6)\n",
    "* [Count Vectorizer](#7)\n",
    "* [TF-IDF](#8)\n",
    "* [Text Classification](#9)\n",
    "* [Evaluation](#10)"
   ]
  },
  {
   "cell_type": "markdown",
   "metadata": {},
   "source": [
    "<h2 id='1'>Introduction</h2>\n",
    "\n",
    "- NLP :\n",
    "\n",
    "&emsp;&emsp;The area that focuses on making machines learn and understand the textual data\n",
    "in order to perform some useful tasks is known as Natural Language\n",
    "Processing (NLP). \n",
    "- 应用领域：\n",
    "    - chatbot\n",
    "    - speech recognition\n",
    "    - translation\n",
    "    - spam detection\n",
    "    - sentiment analysis\n",
    "    - etc"
   ]
  },
  {
   "cell_type": "markdown",
   "metadata": {},
   "source": [
    "<h2 id='2'>NLP five major steps</h2>\n",
    "\n",
    "- Corpus(语料库)\n",
    "- Tokenization(符号化)\n",
    "- Cleaning/Stopword removal(清洗/禁用停用词\n",
    "- Stemming(词干), 词干是一个词语去掉表示语法意义的词尾剩余的部分\n",
    "    - 举个栗子：“老师们”,“老师”是词干,“们”是词尾\n",
    "- Converting into Numerical "
   ]
  },
  {
   "cell_type": "markdown",
   "metadata": {},
   "source": [
    "<h2 id='3'> Corpus </h2>\n",
    "\n",
    "&emsp;&emsp;语料库被 : 文本文档的集合。例如，假设在一个集合中有数千封电子邮件，我们需要处理和分析这些邮件。这组电子邮件就是语料库。"
   ]
  },
  {
   "cell_type": "markdown",
   "metadata": {},
   "source": [
    "<h2 id='4'>Tokenize</h2>\n",
    "\n",
    "&emsp;&emsp;将文本文档中给定的句子或单词集合划分为单个词汇。"
   ]
  },
  {
   "cell_type": "code",
   "execution_count": 71,
   "metadata": {},
   "outputs": [],
   "source": [
    "import pandas as pd\n",
    "\n",
    "from pyspark.sql import SparkSession\n",
    "\n",
    "spark = SparkSession.builder.appName('nlp').getOrCreate()\n",
    "\n",
    "df = spark.createDataFrame([(1, 'I really liked this movie'),\n",
    "                                               (2, 'I would recommend this movie to my friends'),\n",
    "                                               (3, 'movie was alright but acting was horrible'),\n",
    "                                               (4, 'I am never watching that movie ever again')],\n",
    "                                                  ['user_id', 'review'])"
   ]
  },
  {
   "cell_type": "code",
   "execution_count": 6,
   "metadata": {},
   "outputs": [
    {
     "name": "stdout",
     "output_type": "stream",
     "text": [
      "+-------+------------------------------------------+\n",
      "|user_id|review                                    |\n",
      "+-------+------------------------------------------+\n",
      "|1      |I really liked this movie                 |\n",
      "|2      |I would recommend this movie to my friends|\n",
      "|3      |movie was alright but acting was horrible |\n",
      "|4      |I am never watching that movie ever again |\n",
      "+-------+------------------------------------------+\n",
      "\n"
     ]
    }
   ],
   "source": [
    "df.show(4, False)"
   ]
  },
  {
   "cell_type": "code",
   "execution_count": 7,
   "metadata": {},
   "outputs": [
    {
     "name": "stdout",
     "output_type": "stream",
     "text": [
      "+-------+------------------------------------------+---------------------------------------------------+\n",
      "|user_id|review                                    |tokenized                                          |\n",
      "+-------+------------------------------------------+---------------------------------------------------+\n",
      "|1      |I really liked this movie                 |[i, really, liked, this, movie]                    |\n",
      "|2      |I would recommend this movie to my friends|[i, would, recommend, this, movie, to, my, friends]|\n",
      "|3      |movie was alright but acting was horrible |[movie, was, alright, but, acting, was, horrible]  |\n",
      "|4      |I am never watching that movie ever again |[i, am, never, watching, that, movie, ever, again] |\n",
      "+-------+------------------------------------------+---------------------------------------------------+\n",
      "\n"
     ]
    }
   ],
   "source": [
    "from pyspark.ml.feature import Tokenizer\n",
    "\n",
    "tokenization = Tokenizer(inputCol='review', outputCol='tokenized')\n",
    "tokenized_df = tokenization.transform(df)\n",
    "tokenized_df.show(4, False)"
   ]
  },
  {
   "cell_type": "markdown",
   "metadata": {},
   "source": [
    "<h2 id='5'>Stopwords Removal</h2>\n",
    "\n",
    "&emsp;&emsp;为节省存储空间和提高搜索效率，在处理自然语言数据时会自动过滤掉某些字或词，这些字或词即被称为Stop Words,这些词没有什么实际含义,比如：（“the”、“a”、“an”、“that”、和“those”）"
   ]
  },
  {
   "cell_type": "code",
   "execution_count": 8,
   "metadata": {},
   "outputs": [
    {
     "name": "stdout",
     "output_type": "stream",
     "text": [
      "+-------+---------------------------------------------------+----------------------------------+\n",
      "|user_id|tokenized                                          |new_tokenized                     |\n",
      "+-------+---------------------------------------------------+----------------------------------+\n",
      "|1      |[i, really, liked, this, movie]                    |[really, liked, movie]            |\n",
      "|2      |[i, would, recommend, this, movie, to, my, friends]|[recommend, movie, friends]       |\n",
      "|3      |[movie, was, alright, but, acting, was, horrible]  |[movie, alright, acting, horrible]|\n",
      "|4      |[i, am, never, watching, that, movie, ever, again] |[never, watching, movie, ever]    |\n",
      "+-------+---------------------------------------------------+----------------------------------+\n",
      "\n"
     ]
    }
   ],
   "source": [
    "from pyspark.ml.feature import StopWordsRemover\n",
    "\n",
    "sw_removal = StopWordsRemover(inputCol='tokenized', outputCol='new_tokenized')\n",
    "\n",
    "new_df  = sw_removal.transform(tokenized_df)\n",
    "\n",
    "new_df.select(['user_id', 'tokenized', 'new_tokenized']).show(4, False)"
   ]
  },
  {
   "cell_type": "markdown",
   "metadata": {},
   "source": [
    "## Converting text data into numberical vector\n",
    "\n",
    "- Bag of Word\n",
    "- Count Vector\n",
    "- TF-IDF"
   ]
  },
  {
   "cell_type": "markdown",
   "metadata": {},
   "source": [
    "<h2 id='6'>Bag of Words</h2>\n",
    "\n",
    "&emsp;&emsp;BOW,不关注单词在文档中出现的顺序语义和次数，只关注词汇是否在文档中出现，是一种最简单的数值表示方法。\n",
    "\n",
    "举个栗子：\n",
    "- doc 1: The best thing in life is to travel\n",
    "- doc 2: Travel is the best medicine\n",
    "- doc 3: One should travel more often\n",
    "\n",
    "词表：所有文档中词汇集合组成的列表。\n",
    "\n",
    "doc1,2,3由13个单词组成，词表如下：\n",
    "\n",
    "the    best    thing    in    life    is    to    travel    medicine    one    should    more    often\n",
    "\n",
    "- doc 1 vector: 1 1 1 1 1 1 1 1 0 0 0 0 0\n",
    "- doc 2 vector: 1 1 0 0 0 1 0 1 1 0 0 0 0\n",
    "- doc 3 vector: 0 0 0 0 0 0 0 1 0 1 1 1 1"
   ]
  },
  {
   "cell_type": "markdown",
   "metadata": {},
   "source": [
    "<h2 id='7'>Count Vectorizer</h2>\n",
    "\n",
    "&emsp;&emsp;count vectorizer和BOW非常相似，它也不关注词的顺序和语义，但是它统计词汇在文档中出现的频次。"
   ]
  },
  {
   "cell_type": "code",
   "execution_count": 10,
   "metadata": {},
   "outputs": [
    {
     "name": "stdout",
     "output_type": "stream",
     "text": [
      "+-------+--------------------+--------------------+--------------------+\n",
      "|user_id|              review|           tokenized|       new_tokenized|\n",
      "+-------+--------------------+--------------------+--------------------+\n",
      "|      1|I really liked th...|[i, really, liked...|[really, liked, m...|\n",
      "|      2|I would recommend...|[i, would, recomm...|[recommend, movie...|\n",
      "|      3|movie was alright...|[movie, was, alri...|[movie, alright, ...|\n",
      "|      4|I am never watchi...|[i, am, never, wa...|[never, watching,...|\n",
      "+-------+--------------------+--------------------+--------------------+\n",
      "\n"
     ]
    }
   ],
   "source": [
    "new_df.show()"
   ]
  },
  {
   "cell_type": "code",
   "execution_count": 11,
   "metadata": {},
   "outputs": [
    {
     "name": "stdout",
     "output_type": "stream",
     "text": [
      "+-------+---------------------------------+----------------------------------+\n",
      "|user_id|count_vector                     |new_tokenized                     |\n",
      "+-------+---------------------------------+----------------------------------+\n",
      "|1      |(11,[0,1,4],[1.0,1.0,1.0])       |[really, liked, movie]            |\n",
      "|2      |(11,[0,3,5],[1.0,1.0,1.0])       |[recommend, movie, friends]       |\n",
      "|3      |(11,[0,2,6,9],[1.0,1.0,1.0,1.0]) |[movie, alright, acting, horrible]|\n",
      "|4      |(11,[0,7,8,10],[1.0,1.0,1.0,1.0])|[never, watching, movie, ever]    |\n",
      "+-------+---------------------------------+----------------------------------+\n",
      "\n"
     ]
    }
   ],
   "source": [
    "from pyspark.ml.feature import CountVectorizer\n",
    "\n",
    "count_vectorizer = CountVectorizer(inputCol='new_tokenized', outputCol='count_vector')\n",
    "\n",
    "cv_df = count_vectorizer.fit(new_df).transform(new_df)\n",
    "\n",
    "cv_df.select(['user_id', 'count_vector', 'new_tokenized']).show(4, False)"
   ]
  },
  {
   "cell_type": "markdown",
   "metadata": {},
   "source": [
    "### 词汇表"
   ]
  },
  {
   "cell_type": "code",
   "execution_count": 12,
   "metadata": {},
   "outputs": [
    {
     "data": {
      "text/plain": [
       "['movie',\n",
       " 'liked',\n",
       " 'alright',\n",
       " 'recommend',\n",
       " 'friends',\n",
       " 'never',\n",
       " 'acting',\n",
       " 'horrible',\n",
       " 'really',\n",
       " 'ever',\n",
       " 'watching']"
      ]
     },
     "execution_count": 12,
     "metadata": {},
     "output_type": "execute_result"
    }
   ],
   "source": [
    "count_vectorizer.fit(new_df).vocabulary"
   ]
  },
  {
   "cell_type": "markdown",
   "metadata": {},
   "source": [
    "<h2 id='8'>TF-IDF</h2>\n",
    "\n",
    "&emsp;&emsp;这个方法是count vector的后延,它对词频进行归一化。整个想法是，如果这个词在同一份文档中出现了很多次，那么它就会得到更多的重视，但如果它在其他文档中也均出现，这表明一个单词在整个语料库中是常见的，它的权重应该降低。\n",
    "\n",
    "### TF : Term Frequency\n",
    "\n",
    "- word 在文档中出现的频率\n",
    "\n",
    "### IDF : Inverse Document Frequency\n",
    "\n",
    "- 包含某个word文档的频率"
   ]
  },
  {
   "cell_type": "code",
   "execution_count": 14,
   "metadata": {},
   "outputs": [
    {
     "name": "stdout",
     "output_type": "stream",
     "text": [
      "+-------+----------------------------------+-------------------------------------------------------+\n",
      "|user_id|new_tokenized                     |tf_vector                                              |\n",
      "+-------+----------------------------------+-------------------------------------------------------+\n",
      "|1      |[really, liked, movie]            |(262144,[14,32675,155321],[1.0,1.0,1.0])               |\n",
      "|2      |[recommend, movie, friends]       |(262144,[129613,155321,222394],[1.0,1.0,1.0])          |\n",
      "|3      |[movie, alright, acting, horrible]|(262144,[80824,155321,236263,240286],[1.0,1.0,1.0,1.0])|\n",
      "|4      |[never, watching, movie, ever]    |(262144,[63139,155321,203802,245806],[1.0,1.0,1.0,1.0])|\n",
      "+-------+----------------------------------+-------------------------------------------------------+\n",
      "\n"
     ]
    }
   ],
   "source": [
    "from pyspark.ml.feature import HashingTF, IDF\n",
    "\n",
    "hashing_vector = HashingTF(inputCol='new_tokenized', outputCol='tf_vector')\n",
    "\n",
    "hashing_df = hashing_vector.transform(new_df)\n",
    "\n",
    "hashing_df.select(['user_id', 'new_tokenized', 'tf_vector']).show(4, False)"
   ]
  },
  {
   "cell_type": "markdown",
   "metadata": {},
   "source": [
    "##### TF-IDF calculate"
   ]
  },
  {
   "cell_type": "code",
   "execution_count": 15,
   "metadata": {},
   "outputs": [
    {
     "name": "stdout",
     "output_type": "stream",
     "text": [
      "+-------+----------------------------------------------------------------------------------------------------+\n",
      "|user_id|tf_idf_vector                                                                                       |\n",
      "+-------+----------------------------------------------------------------------------------------------------+\n",
      "|1      |(262144,[14,32675,155321],[0.9162907318741551,0.9162907318741551,0.0])                              |\n",
      "|2      |(262144,[129613,155321,222394],[0.9162907318741551,0.0,0.9162907318741551])                         |\n",
      "|3      |(262144,[80824,155321,236263,240286],[0.9162907318741551,0.0,0.9162907318741551,0.9162907318741551])|\n",
      "|4      |(262144,[63139,155321,203802,245806],[0.9162907318741551,0.0,0.9162907318741551,0.9162907318741551])|\n",
      "+-------+----------------------------------------------------------------------------------------------------+\n",
      "\n"
     ]
    }
   ],
   "source": [
    "tf_idf_vector = IDF(inputCol='tf_vector', outputCol='tf_idf_vector')\n",
    "\n",
    "tf_idf_df = tf_idf_vector.fit(hashing_df).transform(hashing_df)\n",
    "\n",
    "tf_idf_df.select(['user_id','tf_idf_vector']).show(4, False)"
   ]
  },
  {
   "cell_type": "markdown",
   "metadata": {},
   "source": [
    "<h2 id='9'> Text Classification</h2>\n",
    "\n",
    "- dataset : Movie Lens reviews data"
   ]
  },
  {
   "cell_type": "code",
   "execution_count": 16,
   "metadata": {},
   "outputs": [
    {
     "name": "stdout",
     "output_type": "stream",
     "text": [
      "root\n",
      " |-- Review: string (nullable = true)\n",
      " |-- Sentiment: string (nullable = true)\n",
      "\n"
     ]
    }
   ],
   "source": [
    "text_df = spark.read.csv('./Data/Movie_reviews.csv', inferSchema=True, header=True, sep=',')\n",
    "\n",
    "text_df.printSchema()"
   ]
  },
  {
   "cell_type": "code",
   "execution_count": 17,
   "metadata": {},
   "outputs": [
    {
     "data": {
      "text/plain": [
       "7087"
      ]
     },
     "execution_count": 17,
     "metadata": {},
     "output_type": "execute_result"
    }
   ],
   "source": [
    "text_df.count()"
   ]
  },
  {
   "cell_type": "code",
   "execution_count": 18,
   "metadata": {},
   "outputs": [
    {
     "data": {
      "text/plain": [
       "6990"
      ]
     },
     "execution_count": 18,
     "metadata": {},
     "output_type": "execute_result"
    }
   ],
   "source": [
    "# 过滤出有标记的，作为train_df\n",
    "\n",
    "train_df = text_df.filter(((text_df.Sentiment =='1') | (text_df.Sentiment == '0')))\n",
    "\n",
    "train_df.count()"
   ]
  },
  {
   "cell_type": "code",
   "execution_count": 23,
   "metadata": {},
   "outputs": [
    {
     "data": {
      "text/plain": [
       "Text(0.5, 1.0, 'Label Count')"
      ]
     },
     "execution_count": 23,
     "metadata": {},
     "output_type": "execute_result"
    },
    {
     "data": {
      "image/png": "[encoded data removed]",
      "text/plain": [
       "<Figure size 432x288 with 1 Axes>"
      ]
     },
     "metadata": {
      "needs_background": "light"
     },
     "output_type": "display_data"
    }
   ],
   "source": [
    "import matplotlib.pyplot as plt\n",
    "%matplotlib inline\n",
    "\n",
    "\n",
    "label_count_df = train_df.groupBy('Sentiment').count().toPandas()\n",
    "\n",
    "label_count_df.plot(kind='bar')\n",
    "\n",
    "plt.title('Label Count')"
   ]
  },
  {
   "cell_type": "code",
   "execution_count": 26,
   "metadata": {},
   "outputs": [
    {
     "name": "stdout",
     "output_type": "stream",
     "text": [
      "+------------------------------------------------------------------------+---------+\n",
      "|Review                                                                  |Sentiment|\n",
      "+------------------------------------------------------------------------+---------+\n",
      "|The Da Vinci Code is awesome!!                                          |1        |\n",
      "|So Brokeback Mountain was really depressing.                            |0        |\n",
      "|friday hung out with kelsie and we went and saw The Da Vinci Code SUCKED|0        |\n",
      "|Always knows what I want, not guy crazy, hates Harry Potter..           |0        |\n",
      "|The Da Vinci Code was awesome, I can't wait to read it...               |1        |\n",
      "|Harry Potter dragged Draco Malfoy ’ s trousers down past his hips and   |0        |\n",
      "|the people who are worth it know how much i love the da vinci code.     |1        |\n",
      "|The Da Vinci Code is awesome..                                          |1        |\n",
      "|DA VINCI CODE IS AWESOME!!                                              |1        |\n",
      "|So Brokeback Mountain was really depressing.                            |0        |\n",
      "+------------------------------------------------------------------------+---------+\n",
      "only showing top 10 rows\n",
      "\n"
     ]
    }
   ],
   "source": [
    "# 随机\n",
    "from pyspark.sql.functions import rand\n",
    "\n",
    "\n",
    "train_df.orderBy(rand()).show(10, False)"
   ]
  },
  {
   "cell_type": "code",
   "execution_count": 28,
   "metadata": {},
   "outputs": [
    {
     "name": "stdout",
     "output_type": "stream",
     "text": [
      "+-----------------------------------------------------------------------+-----+\n",
      "|Review                                                                 |Label|\n",
      "+-----------------------------------------------------------------------+-----+\n",
      "|Oh, and Brokeback Mountain is a TERRIBLE movie...                      |0    |\n",
      "|Harry Potter dragged Draco Malfoy ’ s trousers down past his hips and  |0    |\n",
      "|These Harry Potter movies really suck.                                 |0    |\n",
      "|watched mission impossible 3 wif stupid haha...                        |0    |\n",
      "|i love being a sentry for mission impossible and a station for bonkers.|1    |\n",
      "|I love The Da Vinci Code...                                            |1    |\n",
      "|I either LOVE Brokeback Mountain or think it's great that homosexuality|1    |\n",
      "|Brokeback Mountain was so awesome.                                     |1    |\n",
      "|dudeee i LOVED brokeback mountain!!!!                                  |1    |\n",
      "|\"Anyway, thats why I love \"\" Brokeback Mountain.\"                      |1    |\n",
      "+-----------------------------------------------------------------------+-----+\n",
      "only showing top 10 rows\n",
      "\n"
     ]
    }
   ],
   "source": [
    "# create a new label columns\n",
    "\n",
    "train_df = train_df.withColumn('Label', train_df.Sentiment.cast('int')).drop('Sentiment')\n",
    "\n",
    "train_df.orderBy(rand()).show(10, False)"
   ]
  },
  {
   "cell_type": "code",
   "execution_count": 29,
   "metadata": {},
   "outputs": [
    {
     "name": "stdout",
     "output_type": "stream",
     "text": [
      "+------------------------------------------------------------------------+-----+------+\n",
      "|Review                                                                  |Label|length|\n",
      "+------------------------------------------------------------------------+-----+------+\n",
      "|\"\"\" I hate Harry Potter.\"                                               |0    |25    |\n",
      "|I love Harry Potter.                                                    |1    |20    |\n",
      "|Harry Potter is AWESOME I don't care if anyone says differently!..      |1    |66    |\n",
      "|Oh, and Brokeback Mountain is a TERRIBLE movie...                       |0    |49    |\n",
      "|The Da Vinci Code is awesome..                                          |1    |30    |\n",
      "|Harry Potter dragged Draco Malfoy ’ s trousers down past his hips and   |0    |69    |\n",
      "|, she helped me bobbypin my insanely cool hat to my head, and she laughe|0    |72    |\n",
      "|I thought Brokeback Mountain was an awful movie.                        |0    |48    |\n",
      "|I wanted desperately to love'The Da Vinci Code as a film.               |1    |57    |\n",
      "|the story of Harry Potter is a deep and profound one, and I love Harry P|1    |72    |\n",
      "+------------------------------------------------------------------------+-----+------+\n",
      "only showing top 10 rows\n",
      "\n"
     ]
    }
   ],
   "source": [
    "# add length column\n",
    "from pyspark.sql .functions import length\n",
    "\n",
    "\n",
    "train_df = train_df.withColumn('length', length(train_df['Review']))\n",
    "\n",
    "train_df.orderBy(rand()).show(10, False)"
   ]
  },
  {
   "cell_type": "code",
   "execution_count": 30,
   "metadata": {},
   "outputs": [
    {
     "name": "stdout",
     "output_type": "stream",
     "text": [
      "+-----+-----------------+\n",
      "|Label|      avg(Length)|\n",
      "+-----+-----------------+\n",
      "|    1|47.61882834484523|\n",
      "|    0|50.95845504706264|\n",
      "+-----+-----------------+\n",
      "\n"
     ]
    }
   ],
   "source": [
    "# 正负样本的平均长度\n",
    "\n",
    "\n",
    "train_df.groupBy('Label').agg({'Length':'mean'}).show()"
   ]
  },
  {
   "cell_type": "code",
   "execution_count": 33,
   "metadata": {},
   "outputs": [
    {
     "name": "stdout",
     "output_type": "stream",
     "text": [
      "+------------------------------------------------------------------------+----------------------------------------------------------------------------------------+-------------------------------------------------------------+\n",
      "|Review                                                                  |review_token                                                                            |new_token                                                    |\n",
      "+------------------------------------------------------------------------+----------------------------------------------------------------------------------------+-------------------------------------------------------------+\n",
      "|The Da Vinci Code book is just awesome.                                 |[the, da, vinci, code, book, is, just, awesome.]                                        |[da, vinci, code, book, awesome.]                            |\n",
      "|this was the first clive cussler i've ever read, but even books like Rel|[this, was, the, first, clive, cussler, i've, ever, read,, but, even, books, like, rel] |[first, clive, cussler, ever, read,, even, books, like, rel] |\n",
      "|i liked the Da Vinci Code a lot.                                        |[i, liked, the, da, vinci, code, a, lot.]                                               |[liked, da, vinci, code, lot.]                               |\n",
      "|i liked the Da Vinci Code a lot.                                        |[i, liked, the, da, vinci, code, a, lot.]                                               |[liked, da, vinci, code, lot.]                               |\n",
      "|I liked the Da Vinci Code but it ultimatly didn't seem to hold it's own.|[i, liked, the, da, vinci, code, but, it, ultimatly, didn't, seem, to, hold, it's, own.]|[liked, da, vinci, code, ultimatly, seem, hold, own.]        |\n",
      "|that's not even an exaggeration ) and at midnight we went to Wal-Mart to|[that's, not, even, an, exaggeration, ), and, at, midnight, we, went, to, wal-mart, to] |[even, exaggeration, ), midnight, went, wal-mart]            |\n",
      "|I loved the Da Vinci Code, but now I want something better and different|[i, loved, the, da, vinci, code,, but, now, i, want, something, better, and, different] |[loved, da, vinci, code,, want, something, better, different]|\n",
      "|i thought da vinci code was great, same with kite runner.               |[i, thought, da, vinci, code, was, great,, same, with, kite, runner.]                   |[thought, da, vinci, code, great,, kite, runner.]            |\n",
      "|The Da Vinci Code is actually a good movie...                           |[the, da, vinci, code, is, actually, a, good, movie...]                                 |[da, vinci, code, actually, good, movie...]                  |\n",
      "|I thought the Da Vinci Code was a pretty good book.                     |[i, thought, the, da, vinci, code, was, a, pretty, good, book.]                         |[thought, da, vinci, code, pretty, good, book.]              |\n",
      "+------------------------------------------------------------------------+----------------------------------------------------------------------------------------+-------------------------------------------------------------+\n",
      "only showing top 10 rows\n",
      "\n"
     ]
    }
   ],
   "source": [
    "# tokenization\n",
    "\n",
    "tokenization = Tokenizer(inputCol='Review', outputCol='review_token')\n",
    "\n",
    "train_df = tokenization.transform(train_df)\n",
    "\n",
    "# stop_words\n",
    "stop_words_removal = StopWordsRemover(inputCol='review_token', outputCol='new_token')\n",
    "\n",
    "train_df = stop_words_removal.transform(train_df)\n",
    "\n",
    "train_df.select(['Review', 'review_token', 'new_token']).show(10, False)"
   ]
  },
  {
   "cell_type": "code",
   "execution_count": 37,
   "metadata": {},
   "outputs": [
    {
     "name": "stdout",
     "output_type": "stream",
     "text": [
      "+--------------------+-----------+\n",
      "|           new_token|token_count|\n",
      "+--------------------+-----------+\n",
      "|[da, vinci, code,...|          5|\n",
      "|[first, clive, cu...|          9|\n",
      "|[liked, da, vinci...|          5|\n",
      "|[liked, da, vinci...|          5|\n",
      "|[liked, da, vinci...|          8|\n",
      "|[even, exaggerati...|          6|\n",
      "|[loved, da, vinci...|          8|\n",
      "|[thought, da, vin...|          7|\n",
      "|[da, vinci, code,...|          6|\n",
      "|[thought, da, vin...|          7|\n",
      "+--------------------+-----------+\n",
      "only showing top 10 rows\n",
      "\n"
     ]
    }
   ],
   "source": [
    "# 计算过滤掉停用词后的评论长度\n",
    "from pyspark.sql.functions import udf, rand, col\n",
    "from pyspark.sql.types import IntegerType\n",
    "\n",
    "\n",
    "token_count = udf(lambda x: len(x), IntegerType())\n",
    "\n",
    "train_df = train_df.withColumn('token_count', token_count(col('new_token')))\n",
    "\n",
    "train_df.select(['new_token', 'token_count']).show(10)"
   ]
  },
  {
   "cell_type": "markdown",
   "metadata": {},
   "source": [
    "### convert text into number\n",
    "\n",
    "- count vector\n",
    "- tf\n",
    "- tf-idf"
   ]
  },
  {
   "cell_type": "code",
   "execution_count": 38,
   "metadata": {},
   "outputs": [
    {
     "name": "stdout",
     "output_type": "stream",
     "text": [
      "+--------------------+-----------+--------------------+-----+\n",
      "|           new_token|token_count|        count_vector|label|\n",
      "+--------------------+-----------+--------------------+-----+\n",
      "|[da, vinci, code,...|          5|(2302,[0,1,4,43,2...|    1|\n",
      "|[first, clive, cu...|          9|(2302,[11,51,229,...|    1|\n",
      "|[liked, da, vinci...|          5|(2302,[0,1,4,53,3...|    1|\n",
      "|[liked, da, vinci...|          5|(2302,[0,1,4,53,3...|    1|\n",
      "|[liked, da, vinci...|          8|(2302,[0,1,4,53,6...|    1|\n",
      "|[even, exaggerati...|          6|(2302,[46,229,271...|    1|\n",
      "|[loved, da, vinci...|          8|(2302,[0,1,22,30,...|    1|\n",
      "|[thought, da, vin...|          7|(2302,[0,1,4,228,...|    1|\n",
      "|[da, vinci, code,...|          6|(2302,[0,1,4,33,2...|    1|\n",
      "|[thought, da, vin...|          7|(2302,[0,1,4,223,...|    1|\n",
      "+--------------------+-----------+--------------------+-----+\n",
      "only showing top 10 rows\n",
      "\n"
     ]
    }
   ],
   "source": [
    "# count vector\n",
    "count_vector = CountVectorizer(inputCol='new_token', outputCol='count_vector')\n",
    "\n",
    "train_count_vec = count_vector.fit(train_df).transform(train_df)\n",
    "\n",
    "train_count_vec.select(['new_token', 'token_count', 'count_vector', 'label']).show(10)"
   ]
  },
  {
   "cell_type": "code",
   "execution_count": 40,
   "metadata": {},
   "outputs": [
    {
     "name": "stdout",
     "output_type": "stream",
     "text": [
      "+--------------------+--------------------+-----+\n",
      "|           new_token|           tf_vector|label|\n",
      "+--------------------+--------------------+-----+\n",
      "|[da, vinci, code,...|(262144,[93284,11...|    1|\n",
      "|[first, clive, cu...|(262144,[47372,82...|    1|\n",
      "|[liked, da, vinci...|(262144,[32675,93...|    1|\n",
      "|[liked, da, vinci...|(262144,[32675,93...|    1|\n",
      "|[liked, da, vinci...|(262144,[5765,326...|    1|\n",
      "|[even, exaggerati...|(262144,[105591,1...|    1|\n",
      "|[loved, da, vinci...|(262144,[33933,11...|    1|\n",
      "|[thought, da, vin...|(262144,[2000,335...|    1|\n",
      "|[da, vinci, code,...|(262144,[93284,11...|    1|\n",
      "|[thought, da, vin...|(262144,[23661,93...|    1|\n",
      "+--------------------+--------------------+-----+\n",
      "only showing top 10 rows\n",
      "\n"
     ]
    }
   ],
   "source": [
    "# tf vector\n",
    "tf_vector = HashingTF(inputCol='new_token', outputCol='tf_vector')\n",
    "\n",
    "train_tf_vec = tf_vector.transform(train_df)\n",
    "\n",
    "train_tf_vec.select(['new_token', 'tf_vector', 'label']).show(10)"
   ]
  },
  {
   "cell_type": "code",
   "execution_count": 42,
   "metadata": {},
   "outputs": [
    {
     "name": "stdout",
     "output_type": "stream",
     "text": [
      "+--------------------+--------------------+-----+\n",
      "|           new_token|        tfidf_vector|label|\n",
      "+--------------------+--------------------+-----+\n",
      "|[da, vinci, code,...|(262144,[93284,11...|    1|\n",
      "|[first, clive, cu...|(262144,[47372,82...|    1|\n",
      "|[liked, da, vinci...|(262144,[32675,93...|    1|\n",
      "|[liked, da, vinci...|(262144,[32675,93...|    1|\n",
      "|[liked, da, vinci...|(262144,[5765,326...|    1|\n",
      "|[even, exaggerati...|(262144,[105591,1...|    1|\n",
      "|[loved, da, vinci...|(262144,[33933,11...|    1|\n",
      "|[thought, da, vin...|(262144,[2000,335...|    1|\n",
      "|[da, vinci, code,...|(262144,[93284,11...|    1|\n",
      "|[thought, da, vin...|(262144,[23661,93...|    1|\n",
      "+--------------------+--------------------+-----+\n",
      "only showing top 10 rows\n",
      "\n"
     ]
    }
   ],
   "source": [
    "# TF-IDF\n",
    "tfidf_vector = IDF(inputCol='tf_vector', outputCol='tfidf_vector')\n",
    "\n",
    "train_tfidf_vec = tfidf_vector.fit(train_tf_vec).transform(train_tf_vec)\n",
    "\n",
    "train_tfidf_vec.select(['new_token', 'tfidf_vector', 'label']).show(10)"
   ]
  },
  {
   "cell_type": "code",
   "execution_count": 49,
   "metadata": {},
   "outputs": [
    {
     "name": "stdout",
     "output_type": "stream",
     "text": [
      "+--------------------+-----+\n",
      "|                   X|Label|\n",
      "+--------------------+-----+\n",
      "|(2303,[0,1,4,43,2...|    1|\n",
      "|(2303,[11,51,229,...|    1|\n",
      "|(2303,[0,1,4,53,3...|    1|\n",
      "|(2303,[0,1,4,53,3...|    1|\n",
      "|(2303,[0,1,4,53,6...|    1|\n",
      "|(2303,[46,229,271...|    1|\n",
      "|(2303,[0,1,22,30,...|    1|\n",
      "|(2303,[0,1,4,228,...|    1|\n",
      "|(2303,[0,1,4,33,2...|    1|\n",
      "|(2303,[0,1,4,223,...|    1|\n",
      "+--------------------+-----+\n",
      "only showing top 10 rows\n",
      "\n"
     ]
    }
   ],
   "source": [
    "# 合并特征列\n",
    "\n",
    "from pyspark.ml.feature import VectorAssembler\n",
    "\n",
    "assembler = VectorAssembler(inputCols=['count_vector','token_count'], outputCol='X')\n",
    "\n",
    "train_count_vec = assembler.transform(train_count_vec)\n",
    "\n",
    "train_count_vec.select(['X', 'Label']).show(10)"
   ]
  },
  {
   "cell_type": "code",
   "execution_count": 53,
   "metadata": {},
   "outputs": [
    {
     "name": "stdout",
     "output_type": "stream",
     "text": [
      "+--------------------+-----+\n",
      "|                   X|Label|\n",
      "+--------------------+-----+\n",
      "|(262145,[93284,11...|    1|\n",
      "|(262145,[47372,82...|    1|\n",
      "|(262145,[32675,93...|    1|\n",
      "|(262145,[32675,93...|    1|\n",
      "|(262145,[5765,326...|    1|\n",
      "|(262145,[105591,1...|    1|\n",
      "|(262145,[33933,11...|    1|\n",
      "|(262145,[2000,335...|    1|\n",
      "|(262145,[93284,11...|    1|\n",
      "|(262145,[23661,93...|    1|\n",
      "+--------------------+-----+\n",
      "only showing top 10 rows\n",
      "\n"
     ]
    }
   ],
   "source": [
    "assembler = VectorAssembler(inputCols=['tf_vector','token_count'], outputCol='X')\n",
    "\n",
    "train_tf_vec = assembler.transform(train_tf_vec)\n",
    "\n",
    "train_tf_vec.select(['X', 'Label']).show(10)"
   ]
  },
  {
   "cell_type": "code",
   "execution_count": 54,
   "metadata": {},
   "outputs": [
    {
     "name": "stdout",
     "output_type": "stream",
     "text": [
      "+--------------------+-----+\n",
      "|                   X|Label|\n",
      "+--------------------+-----+\n",
      "|(262145,[93284,11...|    1|\n",
      "|(262145,[47372,82...|    1|\n",
      "|(262145,[32675,93...|    1|\n",
      "|(262145,[32675,93...|    1|\n",
      "|(262145,[5765,326...|    1|\n",
      "|(262145,[105591,1...|    1|\n",
      "|(262145,[33933,11...|    1|\n",
      "|(262145,[2000,335...|    1|\n",
      "|(262145,[93284,11...|    1|\n",
      "|(262145,[23661,93...|    1|\n",
      "+--------------------+-----+\n",
      "only showing top 10 rows\n",
      "\n"
     ]
    }
   ],
   "source": [
    "assembler = VectorAssembler(inputCols=['tfidf_vector', 'token_count'], outputCol='X')\n",
    "\n",
    "train_tfidf_vec = assembler.transform(train_tfidf_vec)\n",
    "\n",
    "train_tfidf_vec.select(['X', 'Label']).show(10)"
   ]
  },
  {
   "cell_type": "markdown",
   "metadata": {},
   "source": [
    "## LogisticRegression\n",
    "\n",
    "对三组特征进行测试\n",
    "\n",
    "- countvector : train_count_vec\n",
    "- tf : train_tf_vec\n",
    "- tf-idf : train_tfidf_vec"
   ]
  },
  {
   "cell_type": "code",
   "execution_count": 55,
   "metadata": {},
   "outputs": [],
   "source": [
    "from pyspark.ml.classification import LogisticRegression\n",
    "\n",
    "# count vector \n",
    "train_1, test_1 = train_count_vec.randomSplit([0.75, 0.25])\n",
    "# tf vector\n",
    "train_2, test_2 = train_tf_vec.randomSplit([0.75, 0.25])\n",
    "# tf-idf vector\n",
    "train_3, test_3 = train_tfidf_vec.randomSplit([0.75, 0.25])\n",
    "\n",
    "# Training model"
   ]
  },
  {
   "cell_type": "code",
   "execution_count": 58,
   "metadata": {},
   "outputs": [],
   "source": [
    "#model_1 = LogisticRegression(featuresCol='X', labelCol='Label').fit(train_1)\n",
    "model_2 = LogisticRegression(featuresCol='X', labelCol='Label').fit(train_2)\n",
    "model_3 = LogisticRegression(featuresCol='X', labelCol='Label').fit(train_3)"
   ]
  },
  {
   "cell_type": "code",
   "execution_count": 61,
   "metadata": {},
   "outputs": [],
   "source": [
    "result_1 = model_1.evaluate(test_1).predictions\n",
    "result_2 = model_2.evaluate(test_2).predictions\n",
    "result_3 = model_3.evaluate(test_3).predictions"
   ]
  },
  {
   "cell_type": "markdown",
   "metadata": {},
   "source": [
    "<h2 id='10'>Evaluation</h2>\n",
    "\n",
    "- train_1 : count vector\n",
    "- train_2 : tf vector\n",
    "- train_3 : tfidf vector"
   ]
  },
  {
   "cell_type": "code",
   "execution_count": 75,
   "metadata": {},
   "outputs": [],
   "source": [
    "from pyspark.ml.evaluation import BinaryClassificationEvaluator, MulticlassClassificationEvaluator\n",
    "\n",
    "accuracy_1 = MulticlassClassificationEvaluator(labelCol='Label', metricName='accuracy').evaluate(result_1)\n",
    "accuracy_2 = MulticlassClassificationEvaluator(labelCol='Label', metricName='accuracy').evaluate(result_2)\n",
    "accuracy_3 = MulticlassClassificationEvaluator(labelCol='Label', metricName='accuracy').evaluate(result_3)\n",
    "\n",
    "precision_1 = MulticlassClassificationEvaluator(labelCol='Label', metricName='weightedPrecision').evaluate(result_1)\n",
    "precision_2 = MulticlassClassificationEvaluator(labelCol='Label', metricName='weightedPrecision').evaluate(result_2)\n",
    "precision_3 = MulticlassClassificationEvaluator(labelCol='Label', metricName='weightedPrecision').evaluate(result_3)\n",
    "\n",
    "auc_1 = BinaryClassificationEvaluator(labelCol='Label').evaluate(result_1)\n",
    "auc_2 = BinaryClassificationEvaluator(labelCol='Label').evaluate(result_2)\n",
    "auc_3 = BinaryClassificationEvaluator(labelCol='Label').evaluate(result_3)\n",
    "\n",
    "scores_df = pd.DataFrame({'feature_type':['Count_vec', 'TF_vec', 'TF-IDF_vec'],\n",
    "                                             'accuracy':[accuracy_1, accuracy_2, accuracy_3],\n",
    "                                             'precision':[precision_1, precision_2, precision_3],\n",
    "                                             'auc':[auc_1, auc_2, auc_3]})\n"
   ]
  },
  {
   "cell_type": "code",
   "execution_count": 84,
   "metadata": {},
   "outputs": [
    {
     "data": {
      "text/plain": [
       "<matplotlib.axes._subplots.AxesSubplot at 0x7fcb089dbe10>"
      ]
     },
     "execution_count": 84,
     "metadata": {},
     "output_type": "execute_result"
    },
    {
     "data": {
      "image/png": "[encoded data removed]",
      "text/plain": [
       "<Figure size 1440x432 with 3 Axes>"
      ]
     },
     "metadata": {
      "needs_background": "light"
     },
     "output_type": "display_data"
    }
   ],
   "source": [
    "plt.figure(figsize=(20, 6))\n",
    "plt.subplot(1, 3, 1)\n",
    "plt.title('Accuracy')\n",
    "plt.ylim(0.95, 1)\n",
    "scores_df.set_index('feature_type').accuracy.plot(kind='bar')\n",
    "plt.subplot(1, 3, 2)\n",
    "plt.title('Precision')\n",
    "plt.ylim(0.95, 1)\n",
    "scores_df.set_index('feature_type').precision.plot(kind='bar')\n",
    "plt.subplot(1, 3, 3)\n",
    "plt.title('AUC')\n",
    "plt.ylim(0.95, 1)\n",
    "scores_df.set_index('feature_type').auc.plot(kind='bar')"
   ]
  }
 ],
 "metadata": {
  "kernelspec": {
   "display_name": "Python 3",
   "language": "python",
   "name": "python3"
  },
  "language_info": {
   "codemirror_mode": {
    "name": "ipython",
    "version": 3
   },
   "file_extension": ".py",
   "mimetype": "text/x-python",
   "name": "python",
   "nbconvert_exporter": "python",
   "pygments_lexer": "ipython3",
   "version": "3.7.2"
  }
 },
 "nbformat": 4,
 "nbformat_minor": 2
}
